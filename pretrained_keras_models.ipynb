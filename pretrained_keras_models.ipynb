{
 "cells": [
  {
   "cell_type": "code",
   "execution_count": 1,
   "metadata": {},
   "outputs": [
    {
     "name": "stderr",
     "output_type": "stream",
     "text": [
      "Using TensorFlow backend.\n"
     ]
    }
   ],
   "source": [
    "%matplotlib inline\n",
    "import numpy as np\n",
    "import pandas as pd\n",
    "import datetime as dt\n",
    "import matplotlib.pyplot as plt\n",
    "from mpl_toolkits.axes_grid1 import ImageGrid\n",
    "from os import listdir, makedirs\n",
    "from os.path import join, exists, expanduser\n",
    "\n",
    "from sklearn.metrics import log_loss, accuracy_score\n",
    "from keras.preprocessing import image\n",
    "from keras.applications.vgg16 import VGG16\n",
    "from keras.applications.resnet50 import ResNet50\n",
    "from keras.applications import xception\n",
    "from keras.applications import inception_v3\n",
    "from keras.applications.vgg16 import preprocess_input, decode_predictions\n",
    "from keras.layers import Flatten\n",
    "from keras.models import Model\n",
    "from sklearn.linear_model import LogisticRegression\n",
    "from sklearn.model_selection import train_test_split"
   ]
  },
  {
   "cell_type": "code",
   "execution_count": 2,
   "metadata": {},
   "outputs": [],
   "source": [
    "################\n",
    "INPUT_SIZE = 224\n",
    "################\n",
    "NUM_CLASSES = 120\n",
    "SEED = 1987\n",
    "POOLING = 'avg'\n",
    "data_dir = './data'"
   ]
  },
  {
   "cell_type": "markdown",
   "metadata": {},
   "source": [
    "## Data"
   ]
  },
  {
   "cell_type": "code",
   "execution_count": 3,
   "metadata": {},
   "outputs": [
    {
     "name": "stdout",
     "output_type": "stream",
     "text": [
      "10222 10222\n"
     ]
    }
   ],
   "source": [
    "labels = pd.read_csv(join(data_dir, 'labels.csv'))\n",
    "print(len(listdir(join(data_dir, 'train'))), len(labels))"
   ]
  },
  {
   "cell_type": "code",
   "execution_count": 4,
   "metadata": {},
   "outputs": [],
   "source": [
    "selected_breed_list = list(labels.groupby('breed').count().sort_values(by='id', ascending=False).head(NUM_CLASSES).index)\n",
    "labels = labels[labels['breed'].isin(selected_breed_list)]"
   ]
  },
  {
   "cell_type": "code",
   "execution_count": 5,
   "metadata": {},
   "outputs": [],
   "source": [
    "def read_img(img_id, train_or_test, size):\n",
    "    \"\"\"Read and resize image.\n",
    "    # Arguments\n",
    "        img_id: string\n",
    "        train_or_test: string 'train' or 'test'.\n",
    "        size: resize the original image.\n",
    "    # Returns\n",
    "        Image as numpy array.\n",
    "    \"\"\"\n",
    "    img = image.load_img(join(data_dir, train_or_test, '%s.jpg' % img_id), target_size=size)\n",
    "    img = image.img_to_array(img)\n",
    "    return img"
   ]
  },
  {
   "cell_type": "markdown",
   "metadata": {},
   "source": [
    "## Features"
   ]
  },
  {
   "cell_type": "code",
   "execution_count": 6,
   "metadata": {},
   "outputs": [
    {
     "name": "stdout",
     "output_type": "stream",
     "text": [
      "0 images processed\n",
      "500 images processed\n",
      "1000 images processed\n",
      "1500 images processed\n",
      "2000 images processed\n",
      "2500 images processed\n",
      "Train Images shape: (10222, 224, 224, 3) size: 1,538,697,216\n"
     ]
    }
   ],
   "source": [
    "x_train_dev = np.zeros((len(labels), INPUT_SIZE, INPUT_SIZE, 3), dtype='float32')\n",
    "for i, img_id in enumerate(labels['id'][0:3000]):\n",
    "    img = read_img(img_id, 'train', (INPUT_SIZE, INPUT_SIZE))\n",
    "    ########################################################\n",
    "    x = preprocess_input(np.expand_dims(img.copy(), axis=0))\n",
    "    ########################################################\n",
    "    x_train_dev[i] = x\n",
    "    \n",
    "    if (i % 500 == 0):\n",
    "        print (str(i), 'images processed')\n",
    "        \n",
    "print('Train Images shape: {} size: {:,}'.format(x_train_dev.shape, x_train_dev.size))"
   ]
  },
  {
   "cell_type": "code",
   "execution_count": null,
   "metadata": {},
   "outputs": [],
   "source": [
    "x_train, x_dev, y_train, y_dev = train_test_split(x_train_dev, pd.get_dummies(labels['breed']), test_size=0.2, random_state=0)"
   ]
  },
  {
   "cell_type": "code",
   "execution_count": 8,
   "metadata": {},
   "outputs": [],
   "source": [
    "np.save('./data/bottleneck_features/pretrained_keras_models/x_train.npy', x_train)\n",
    "np.save('./data/bottleneck_features/pretrained_keras_models/x_dev.npy', x_dev)\n",
    "np.save('./data/bottleneck_features/pretrained_keras_models/y_train.npy', y_train)\n",
    "np.save('./data/bottleneck_features/pretrained_keras_models/y_dev.npy', y_dev)"
   ]
  },
  {
   "cell_type": "markdown",
   "metadata": {},
   "source": [
    "## Model"
   ]
  },
  {
   "cell_type": "code",
   "execution_count": 3,
   "metadata": {},
   "outputs": [],
   "source": [
    "base_model = VGG16(\n",
    "    weights='imagenet', \n",
    "    input_shape=(INPUT_SIZE, INPUT_SIZE, 3),\n",
    "    include_top=False, \n",
    "    ###############\n",
    "    pooling=POOLING\n",
    "    ###############\n",
    ")\n",
    "\n",
    "#output = Flatten()(base_model.output)\n",
    "#model = Model(inputs=base_model.inputs, outputs=output)\n",
    "model = base_model"
   ]
  },
  {
   "cell_type": "code",
   "execution_count": 4,
   "metadata": {},
   "outputs": [
    {
     "name": "stdout",
     "output_type": "stream",
     "text": [
      "_________________________________________________________________\n",
      "Layer (type)                 Output Shape              Param #   \n",
      "=================================================================\n",
      "input_1 (InputLayer)         (None, 224, 224, 3)       0         \n",
      "_________________________________________________________________\n",
      "block1_conv1 (Conv2D)        (None, 224, 224, 64)      1792      \n",
      "_________________________________________________________________\n",
      "block1_conv2 (Conv2D)        (None, 224, 224, 64)      36928     \n",
      "_________________________________________________________________\n",
      "block1_pool (MaxPooling2D)   (None, 112, 112, 64)      0         \n",
      "_________________________________________________________________\n",
      "block2_conv1 (Conv2D)        (None, 112, 112, 128)     73856     \n",
      "_________________________________________________________________\n",
      "block2_conv2 (Conv2D)        (None, 112, 112, 128)     147584    \n",
      "_________________________________________________________________\n",
      "block2_pool (MaxPooling2D)   (None, 56, 56, 128)       0         \n",
      "_________________________________________________________________\n",
      "block3_conv1 (Conv2D)        (None, 56, 56, 256)       295168    \n",
      "_________________________________________________________________\n",
      "block3_conv2 (Conv2D)        (None, 56, 56, 256)       590080    \n",
      "_________________________________________________________________\n",
      "block3_conv3 (Conv2D)        (None, 56, 56, 256)       590080    \n",
      "_________________________________________________________________\n",
      "block3_pool (MaxPooling2D)   (None, 28, 28, 256)       0         \n",
      "_________________________________________________________________\n",
      "block4_conv1 (Conv2D)        (None, 28, 28, 512)       1180160   \n",
      "_________________________________________________________________\n",
      "block4_conv2 (Conv2D)        (None, 28, 28, 512)       2359808   \n",
      "_________________________________________________________________\n",
      "block4_conv3 (Conv2D)        (None, 28, 28, 512)       2359808   \n",
      "_________________________________________________________________\n",
      "block4_pool (MaxPooling2D)   (None, 14, 14, 512)       0         \n",
      "_________________________________________________________________\n",
      "block5_conv1 (Conv2D)        (None, 14, 14, 512)       2359808   \n",
      "_________________________________________________________________\n",
      "block5_conv2 (Conv2D)        (None, 14, 14, 512)       2359808   \n",
      "_________________________________________________________________\n",
      "block5_conv3 (Conv2D)        (None, 14, 14, 512)       2359808   \n",
      "_________________________________________________________________\n",
      "block5_pool (MaxPooling2D)   (None, 7, 7, 512)         0         \n",
      "_________________________________________________________________\n",
      "global_average_pooling2d_1 ( (None, 512)               0         \n",
      "=================================================================\n",
      "Total params: 14,714,688\n",
      "Trainable params: 14,714,688\n",
      "Non-trainable params: 0\n",
      "_________________________________________________________________\n"
     ]
    }
   ],
   "source": [
    "model.summary()"
   ]
  },
  {
   "cell_type": "code",
   "execution_count": 5,
   "metadata": {},
   "outputs": [
    {
     "name": "stdout",
     "output_type": "stream",
     "text": [
      "1421/1421 [==============================] - 679s 478ms/step\n"
     ]
    }
   ],
   "source": [
    "x_train = np.load('./data/bottleneck_features/pretrained_keras_models/x_train.npy')\n",
    "train_vgg_bf = model.predict(x_train, batch_size=8, verbose=1)\n",
    "np.save('./data/bottleneck_features/pretrained_keras_models/train_vgg_bf.npy', train_vgg_bf)"
   ]
  },
  {
   "cell_type": "code",
   "execution_count": 5,
   "metadata": {},
   "outputs": [
    {
     "name": "stdout",
     "output_type": "stream",
     "text": [
      "356/356 [==============================] - 162s 455ms/step\n"
     ]
    }
   ],
   "source": [
    "x_dev = np.load('./data/bottleneck_features/pretrained_keras_models/x_dev.npy')\n",
    "dev_vgg_bf = model.predict(x_dev, batch_size=8, verbose=1)\n",
    "np.save('./data/bottleneck_features/pretrained_keras_models/dev_vgg_bf.npy', dev_vgg_bf)"
   ]
  },
  {
   "cell_type": "markdown",
   "metadata": {},
   "source": [
    "## LogReg"
   ]
  },
  {
   "cell_type": "code",
   "execution_count": 6,
   "metadata": {},
   "outputs": [],
   "source": [
    "train_vgg_bf = np.load('./data/bottleneck_features/pretrained_keras_models/train_vgg_bf.npy')\n",
    "dev_vgg_bf = np.load('./data/bottleneck_features/pretrained_keras_models/dev_vgg_bf.npy')\n",
    "y_train = np.load('./data/bottleneck_features/pretrained_keras_models/y_train.npy')\n",
    "y_dev = np.load('./data/bottleneck_features/pretrained_keras_models/y_dev.npy')\n",
    "\n",
    "#train_vgg_bf = np.load('./data/bottleneck_features/vgg16/bottleneck_features_train.npy')\n",
    "#dev_vgg_bf = np.load('./data/bottleneck_features/vgg16/bottleneck_features_dev.npy')\n",
    "#y_train = np.load('./data/bottleneck_features/vgg16/train_labels.npy')\n",
    "#y_dev = np.load('./data/bottleneck_features/vgg16/dev_labels.npy')"
   ]
  },
  {
   "cell_type": "code",
   "execution_count": 7,
   "metadata": {},
   "outputs": [],
   "source": [
    "logreg = LogisticRegression(multi_class='multinomial', solver='lbfgs', random_state=SEED)\n",
    "logreg.fit(train_vgg_bf, (y_train * range(NUM_CLASSES)).sum(axis=1))\n",
    "dev_probs = logreg.predict_proba(dev_vgg_bf)\n",
    "dev_preds = logreg.predict(dev_vgg_bf)"
   ]
  },
  {
   "cell_type": "code",
   "execution_count": 8,
   "metadata": {},
   "outputs": [
    {
     "name": "stdout",
     "output_type": "stream",
     "text": [
      "Validation VGG LogLoss 0.32802901648240856\n",
      "Validation VGG Accuracy 0.9129213483146067\n"
     ]
    }
   ],
   "source": [
    "print('Validation VGG LogLoss {}'.format(log_loss(y_dev, dev_probs)))\n",
    "print('Validation VGG Accuracy {}'.format(accuracy_score((y_dev * range(NUM_CLASSES)).sum(axis=1), dev_preds)))"
   ]
  }
 ],
 "metadata": {
  "kernelspec": {
   "display_name": "Python 3",
   "language": "python",
   "name": "python3"
  },
  "language_info": {
   "codemirror_mode": {
    "name": "ipython",
    "version": 3
   },
   "file_extension": ".py",
   "mimetype": "text/x-python",
   "name": "python",
   "nbconvert_exporter": "python",
   "pygments_lexer": "ipython3",
   "version": "3.6.3"
  }
 },
 "nbformat": 4,
 "nbformat_minor": 2
}
