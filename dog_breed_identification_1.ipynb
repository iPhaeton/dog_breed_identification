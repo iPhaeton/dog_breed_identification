{
 "cells": [
  {
   "cell_type": "code",
   "execution_count": 1,
   "metadata": {},
   "outputs": [
    {
     "name": "stderr",
     "output_type": "stream",
     "text": [
      "Using TensorFlow backend.\n"
     ]
    }
   ],
   "source": [
    "import pandas as pd\n",
    "import numpy as np\n",
    "import scipy\n",
    "from scipy import ndimage\n",
    "from sklearn.model_selection import train_test_split\n",
    "from matplotlib import pyplot as plt\n",
    "from IPython.display import clear_output\n",
    "\n",
    "import keras\n",
    "from keras import layers\n",
    "from keras.layers import Input, Add, Dense, Activation, ZeroPadding2D, BatchNormalization, Flatten, Conv2D, AveragePooling2D, MaxPooling2D, GlobalMaxPooling2D, Dropout\n",
    "from keras.models import Model, Sequential\n",
    "from keras.applications.vgg16 import VGG16\n",
    "from keras.preprocessing.image import ImageDataGenerator, img_to_array, load_img  \n",
    "from keras.utils.np_utils import to_categorical  "
   ]
  },
  {
   "cell_type": "markdown",
   "metadata": {},
   "source": [
    "## Constants"
   ]
  },
  {
   "cell_type": "code",
   "execution_count": 2,
   "metadata": {},
   "outputs": [],
   "source": [
    "img_size = 112\n",
    "\n",
    "train_data_dir = 'data/train_dataset/'  \n",
    "dev_data_dir = 'data/dev_dataset/'  \n",
    "\n",
    "epochs = 50\n",
    "batch_size = 8\n",
    "\n",
    "num_class = 120"
   ]
  },
  {
   "cell_type": "markdown",
   "metadata": {},
   "source": [
    "## Data"
   ]
  },
  {
   "cell_type": "code",
   "execution_count": 3,
   "metadata": {},
   "outputs": [
    {
     "name": "stdout",
     "output_type": "stream",
     "text": [
      "Found 9144 images belonging to 120 classes.\n",
      "Found 1078 images belonging to 120 classes.\n"
     ]
    }
   ],
   "source": [
    "def generator(datagen, data_dir, class_mode):\n",
    "    return datagen.flow_from_directory(\n",
    "        data_dir,\n",
    "        target_size=(img_size, img_size),\n",
    "        batch_size=batch_size,\n",
    "        class_mode=class_mode,\n",
    "        shuffle=False,\n",
    "        seed=0,\n",
    "    )\n",
    "\n",
    "datagen = ImageDataGenerator(rescale=1./255)\n",
    "\n",
    "train_generator = generator(datagen, train_data_dir, 'categorical')\n",
    "dev_generator = generator(datagen, dev_data_dir, 'categorical')"
   ]
  },
  {
   "cell_type": "code",
   "execution_count": 5,
   "metadata": {},
   "outputs": [],
   "source": [
    "train_labels = to_categorical(train_generator.classes)\n",
    "dev_labels = to_categorical(dev_generator.classes)"
   ]
  },
  {
   "cell_type": "code",
   "execution_count": 6,
   "metadata": {},
   "outputs": [],
   "source": [
    "np.save('./data/bottleneck_features/train_labels.npy', train_labels)\n",
    "np.save('./data/bottleneck_features/dev_labels.npy', dev_labels)"
   ]
  },
  {
   "cell_type": "markdown",
   "metadata": {},
   "source": [
    "## Base Model"
   ]
  },
  {
   "cell_type": "code",
   "execution_count": 7,
   "metadata": {},
   "outputs": [],
   "source": [
    "base_model = VGG16(include_top=False, weights='imagenet', input_shape=(img_size, img_size, 3))"
   ]
  },
  {
   "cell_type": "code",
   "execution_count": 8,
   "metadata": {},
   "outputs": [
    {
     "name": "stdout",
     "output_type": "stream",
     "text": [
      "_________________________________________________________________\n",
      "Layer (type)                 Output Shape              Param #   \n",
      "=================================================================\n",
      "input_1 (InputLayer)         (None, 112, 112, 3)       0         \n",
      "_________________________________________________________________\n",
      "block1_conv1 (Conv2D)        (None, 112, 112, 64)      1792      \n",
      "_________________________________________________________________\n",
      "block1_conv2 (Conv2D)        (None, 112, 112, 64)      36928     \n",
      "_________________________________________________________________\n",
      "block1_pool (MaxPooling2D)   (None, 56, 56, 64)        0         \n",
      "_________________________________________________________________\n",
      "block2_conv1 (Conv2D)        (None, 56, 56, 128)       73856     \n",
      "_________________________________________________________________\n",
      "block2_conv2 (Conv2D)        (None, 56, 56, 128)       147584    \n",
      "_________________________________________________________________\n",
      "block2_pool (MaxPooling2D)   (None, 28, 28, 128)       0         \n",
      "_________________________________________________________________\n",
      "block3_conv1 (Conv2D)        (None, 28, 28, 256)       295168    \n",
      "_________________________________________________________________\n",
      "block3_conv2 (Conv2D)        (None, 28, 28, 256)       590080    \n",
      "_________________________________________________________________\n",
      "block3_conv3 (Conv2D)        (None, 28, 28, 256)       590080    \n",
      "_________________________________________________________________\n",
      "block3_pool (MaxPooling2D)   (None, 14, 14, 256)       0         \n",
      "_________________________________________________________________\n",
      "block4_conv1 (Conv2D)        (None, 14, 14, 512)       1180160   \n",
      "_________________________________________________________________\n",
      "block4_conv2 (Conv2D)        (None, 14, 14, 512)       2359808   \n",
      "_________________________________________________________________\n",
      "block4_conv3 (Conv2D)        (None, 14, 14, 512)       2359808   \n",
      "_________________________________________________________________\n",
      "block4_pool (MaxPooling2D)   (None, 7, 7, 512)         0         \n",
      "_________________________________________________________________\n",
      "block5_conv1 (Conv2D)        (None, 7, 7, 512)         2359808   \n",
      "_________________________________________________________________\n",
      "block5_conv2 (Conv2D)        (None, 7, 7, 512)         2359808   \n",
      "_________________________________________________________________\n",
      "block5_conv3 (Conv2D)        (None, 7, 7, 512)         2359808   \n",
      "_________________________________________________________________\n",
      "block5_pool (MaxPooling2D)   (None, 3, 3, 512)         0         \n",
      "=================================================================\n",
      "Total params: 14,714,688\n",
      "Trainable params: 14,714,688\n",
      "Non-trainable params: 0\n",
      "_________________________________________________________________\n"
     ]
    }
   ],
   "source": [
    "base_model.summary()"
   ]
  },
  {
   "cell_type": "code",
   "execution_count": 9,
   "metadata": {},
   "outputs": [
    {
     "name": "stdout",
     "output_type": "stream",
     "text": [
      "1143/1143 [==============================] - 1260s 1s/step\n"
     ]
    }
   ],
   "source": [
    "bottleneck_features_train = base_model.predict_generator(train_generator, len(train_generator), verbose=1)\n",
    "np.save('./data/bottleneck_features/bottleneck_features_train.npy', bottleneck_features_train)"
   ]
  },
  {
   "cell_type": "code",
   "execution_count": 10,
   "metadata": {},
   "outputs": [
    {
     "name": "stdout",
     "output_type": "stream",
     "text": [
      "135/135 [==============================] - 153s 1s/step\n"
     ]
    }
   ],
   "source": [
    "bottleneck_features_dev = base_model.predict_generator(dev_generator, len(dev_generator), verbose=1)\n",
    "np.save('./data/bottleneck_features/bottleneck_features_dev.npy', bottleneck_features_dev)"
   ]
  },
  {
   "cell_type": "markdown",
   "metadata": {},
   "source": [
    "## Callbacks"
   ]
  },
  {
   "cell_type": "code",
   "execution_count": 3,
   "metadata": {},
   "outputs": [],
   "source": [
    "class PlotLosses(keras.callbacks.Callback):\n",
    "    def on_train_begin(self, logs={}):\n",
    "        self.i = 0\n",
    "        self.x = []\n",
    "        self.losses = []\n",
    "        self.acc = []\n",
    "        self.val_losses = []\n",
    "        self.val_acc = []\n",
    "        \n",
    "        self.logs = []\n",
    "\n",
    "    def on_epoch_end(self, epoch, logs={}):\n",
    "        f, (ax1, ax2) = plt.subplots(2, sharex=True, sharey=False)\n",
    "        self.ax1 = ax1\n",
    "        self.ax2 = ax2\n",
    "    \n",
    "        self.logs.append(logs)\n",
    "        self.x.append(self.i)\n",
    "        self.losses.append(logs.get('loss'))\n",
    "        self.acc.append(logs.get('categorical_accuracy'))\n",
    "        self.val_losses.append(logs.get('val_loss'))\n",
    "        self.val_acc.append(logs.get('val_categorical_accuracy'))\n",
    "        self.i += 1\n",
    "        \n",
    "        clear_output(wait=True)\n",
    "        self.ax1.plot(self.x, self.losses, label=\"loss\")\n",
    "        self.ax1.plot(self.x, self.val_losses, label=\"val loss\")\n",
    "        self.ax1.legend()\n",
    "        self.ax2.plot(self.x, self.acc, label=\"accuracy\")\n",
    "        self.ax2.plot(self.x, self.val_acc, label=\"val accuracy\")\n",
    "        self.ax2.legend()\n",
    "        plt.show()\n",
    "        \n",
    "        print(logs)\n",
    "        for i in range(self.i):\n",
    "            print('Epoch ' + str(i+1))\n",
    "            print('-----------------------')\n",
    "            print('- Loss:', self.losses[i])\n",
    "            print('- Accuracy:', self.acc[i])\n",
    "            print('- Validation loss:', self.val_losses[i])\n",
    "            print('- Validation accuracy:', self.val_acc[i])\n",
    "            print(' ')"
   ]
  },
  {
   "cell_type": "markdown",
   "metadata": {},
   "source": [
    "## Top Model"
   ]
  },
  {
   "cell_type": "code",
   "execution_count": 4,
   "metadata": {},
   "outputs": [],
   "source": [
    "train_data = np.load('./data/bottleneck_features/bottleneck_features_train.npy')\n",
    "dev_data = np.load('./data/bottleneck_features/bottleneck_features_dev.npy')\n",
    "train_labels = np.load('./data/bottleneck_features/train_labels.npy')\n",
    "dev_labels = np.load('./data/bottleneck_features/dev_labels.npy')"
   ]
  },
  {
   "cell_type": "code",
   "execution_count": 5,
   "metadata": {},
   "outputs": [],
   "source": [
    "inputs = Input(shape=(train_data.shape[1], train_data.shape[2], train_data.shape[3]))\n",
    "X = Flatten()(inputs)\n",
    "X = Dense(2048, activation='relu')(X)\n",
    "X = Dropout(0.5)(X)\n",
    "X = Dense(1024, activation='relu')(X)\n",
    "\n",
    "outputs = Dense(num_class, activation='softmax')(X)\n",
    "\n",
    "top_model = Model(inputs=inputs, outputs=outputs)\n",
    "\n",
    "top_model.compile(optimizer='adam',\n",
    "              loss='categorical_crossentropy',\n",
    "              metrics=['categorical_accuracy'])\n",
    "\n",
    "plot_losses = PlotLosses()"
   ]
  },
  {
   "cell_type": "code",
   "execution_count": 6,
   "metadata": {
    "scrolled": false
   },
   "outputs": [
    {
     "data": {
      "image/png": "[encoded data removed]",
      "text/plain": [
       "<Figure size 432x288 with 2 Axes>"
      ]
     },
     "metadata": {},
     "output_type": "display_data"
    },
    {
     "name": "stdout",
     "output_type": "stream",
     "text": [
      "{'val_loss': 4.0954837914079372, 'val_categorical_accuracy': 0.061224489795918366, 'loss': 3.5638144822466926, 'categorical_accuracy': 0.11428258967629046}\n",
      "Epoch 1\n",
      "-----------------------\n",
      "- Loss: 4.824115205\n",
      "- Accuracy: 0.0157480314961\n",
      "- Validation loss: 4.6120127048\n",
      "- Validation accuracy: 0.0296846011132\n",
      " \n",
      "Epoch 2\n",
      "-----------------------\n",
      "- Loss: 4.62551488735\n",
      "- Accuracy: 0.0242782152231\n",
      "- Validation loss: 4.47581419741\n",
      "- Validation accuracy: 0.0426716141002\n",
      " \n",
      "Epoch 3\n",
      "-----------------------\n",
      "- Loss: 4.49389505908\n",
      "- Accuracy: 0.0294181977253\n",
      "- Validation loss: 4.37674208607\n",
      "- Validation accuracy: 0.0426716141002\n",
      " \n",
      "Epoch 4\n",
      "-----------------------\n",
      "- Loss: 4.39357318882\n",
      "- Accuracy: 0.038167104112\n",
      "- Validation loss: 4.24680775924\n",
      "- Validation accuracy: 0.056586270872\n",
      " \n",
      "Epoch 5\n",
      "-----------------------\n",
      "- Loss: 4.31168683203\n",
      "- Accuracy: 0.0458223972003\n",
      "- Validation loss: 4.17632883688\n",
      "- Validation accuracy: 0.0714285714286\n",
      " \n",
      "Epoch 6\n",
      "-----------------------\n",
      "- Loss: 4.27281374568\n",
      "- Accuracy: 0.0504155730534\n",
      "- Validation loss: 4.15934377035\n",
      "- Validation accuracy: 0.0621521335807\n",
      " \n",
      "Epoch 7\n",
      "-----------------------\n",
      "- Loss: 4.19927848773\n",
      "- Accuracy: 0.0570866141732\n",
      "- Validation loss: 4.14662737926\n",
      "- Validation accuracy: 0.0723562152134\n",
      " \n",
      "Epoch 8\n",
      "-----------------------\n",
      "- Loss: 4.14101383838\n",
      "- Accuracy: 0.0626640419948\n",
      "- Validation loss: 4.14592657903\n",
      "- Validation accuracy: 0.0602968460111\n",
      " \n",
      "Epoch 9\n",
      "-----------------------\n",
      "- Loss: 4.11569154815\n",
      "- Accuracy: 0.0636482939633\n",
      "- Validation loss: 4.06904365402\n",
      "- Validation accuracy: 0.0797773654917\n",
      " \n",
      "Epoch 10\n",
      "-----------------------\n",
      "- Loss: 4.06210181469\n",
      "- Accuracy: 0.0653980752406\n",
      "- Validation loss: 4.04627285552\n",
      "- Validation accuracy: 0.0751391465677\n",
      " \n",
      "Epoch 11\n",
      "-----------------------\n",
      "- Loss: 4.02653167796\n",
      "- Accuracy: 0.0663823272091\n",
      "- Validation loss: 4.07157819391\n",
      "- Validation accuracy: 0.0732838589981\n",
      " \n",
      "Epoch 12\n",
      "-----------------------\n",
      "- Loss: 3.99103881201\n",
      "- Accuracy: 0.0704286964129\n",
      "- Validation loss: 4.04297314681\n",
      "- Validation accuracy: 0.0909090909091\n",
      " \n",
      "Epoch 13\n",
      "-----------------------\n",
      "- Loss: 3.9482730893\n",
      "- Accuracy: 0.0768810148731\n",
      "- Validation loss: 4.00694582856\n",
      "- Validation accuracy: 0.0779220779221\n",
      " \n",
      "Epoch 14\n",
      "-----------------------\n",
      "- Loss: 3.92848421186\n",
      "- Accuracy: 0.0790682414698\n",
      "- Validation loss: 4.08297996043\n",
      "- Validation accuracy: 0.0797773654917\n",
      " \n",
      "Epoch 15\n",
      "-----------------------\n",
      "- Loss: 3.91468431735\n",
      "- Accuracy: 0.0753499562555\n",
      "- Validation loss: 3.97688744373\n",
      "- Validation accuracy: 0.0890538033395\n",
      " \n",
      "Epoch 16\n",
      "-----------------------\n",
      "- Loss: 3.87060643661\n",
      "- Accuracy: 0.0843175853018\n",
      "- Validation loss: 3.99322388654\n",
      "- Validation accuracy: 0.0760667903525\n",
      " \n",
      "Epoch 17\n",
      "-----------------------\n",
      "- Loss: 3.84690590147\n",
      "- Accuracy: 0.0872703412073\n",
      "- Validation loss: 3.97665316364\n",
      "- Validation accuracy: 0.0862708719852\n",
      " \n",
      "Epoch 18\n",
      "-----------------------\n",
      "- Loss: 3.81780564024\n",
      "- Accuracy: 0.0942694663167\n",
      "- Validation loss: 3.99383853937\n",
      "- Validation accuracy: 0.0983302411874\n",
      " \n",
      "Epoch 19\n",
      "-----------------------\n",
      "- Loss: 3.79689415922\n",
      "- Accuracy: 0.0966754155731\n",
      "- Validation loss: 3.98271219983\n",
      "- Validation accuracy: 0.100185528757\n",
      " \n",
      "Epoch 20\n",
      "-----------------------\n",
      "- Loss: 3.77955525629\n",
      "- Accuracy: 0.0919728783902\n",
      "- Validation loss: 3.9826704434\n",
      "- Validation accuracy: 0.0890538033395\n",
      " \n",
      "Epoch 21\n",
      "-----------------------\n",
      "- Loss: 3.78176224409\n",
      "- Accuracy: 0.0919728783902\n",
      "- Validation loss: 4.0305216308\n",
      "- Validation accuracy: 0.0779220779221\n",
      " \n",
      "Epoch 22\n",
      "-----------------------\n",
      "- Loss: 3.73044933839\n",
      "- Accuracy: 0.0993000874891\n",
      "- Validation loss: 4.05537309364\n",
      "- Validation accuracy: 0.0760667903525\n",
      " \n",
      "Epoch 23\n",
      "-----------------------\n",
      "- Loss: 3.73796857311\n",
      "- Accuracy: 0.0996281714786\n",
      "- Validation loss: 3.98526708447\n",
      "- Validation accuracy: 0.0853432282004\n",
      " \n",
      "Epoch 24\n",
      "-----------------------\n",
      "- Loss: 3.68491717691\n",
      "- Accuracy: 0.107939632546\n",
      "- Validation loss: 3.98968309286\n",
      "- Validation accuracy: 0.0834879406308\n",
      " \n",
      "Epoch 25\n",
      "-----------------------\n",
      "- Loss: 3.69212071372\n",
      "- Accuracy: 0.100612423447\n",
      "- Validation loss: 4.03797393385\n",
      "- Validation accuracy: 0.0732838589981\n",
      " \n",
      "Epoch 26\n",
      "-----------------------\n",
      "- Loss: 3.64140981702\n",
      "- Accuracy: 0.106517935258\n",
      "- Validation loss: 3.98921145667\n",
      "- Validation accuracy: 0.0723562152134\n",
      " \n",
      "Epoch 27\n",
      "-----------------------\n",
      "- Loss: 3.61996326317\n",
      "- Accuracy: 0.112970253718\n",
      "- Validation loss: 4.03629359509\n",
      "- Validation accuracy: 0.0797773654917\n",
      " \n",
      "Epoch 28\n",
      "-----------------------\n",
      "- Loss: 3.63271377468\n",
      "- Accuracy: 0.11154855643\n",
      "- Validation loss: 4.02796360911\n",
      "- Validation accuracy: 0.0946196660482\n",
      " \n",
      "Epoch 29\n",
      "-----------------------\n",
      "- Loss: 3.62283049491\n",
      "- Accuracy: 0.114938757655\n",
      "- Validation loss: 4.11976632736\n",
      "- Validation accuracy: 0.0732838590258\n",
      " \n",
      "Epoch 30\n",
      "-----------------------\n",
      "- Loss: 3.60335088944\n",
      "- Accuracy: 0.115485564304\n",
      "- Validation loss: 4.05203835464\n",
      "- Validation accuracy: 0.0816326530612\n",
      " \n",
      "Epoch 31\n",
      "-----------------------\n",
      "- Loss: 3.56381448225\n",
      "- Accuracy: 0.114282589676\n",
      "- Validation loss: 4.09548379141\n",
      "- Validation accuracy: 0.0612244897959\n",
      " \n",
      "Epoch 32/50\n",
      "6384/9144 [===================>..........] - ETA: 51s - loss: 3.5621 - categorical_accuracy: 0.1195"
     ]
    },
    {
     "ename": "KeyboardInterrupt",
     "evalue": "",
     "output_type": "error",
     "traceback": [
      "\u001b[0;31m---------------------------------------------------------------------------\u001b[0m",
      "\u001b[0;31mKeyboardInterrupt\u001b[0m                         Traceback (most recent call last)",
      "\u001b[0;32m<ipython-input-6-8c295d729137>\u001b[0m in \u001b[0;36m<module>\u001b[0;34m()\u001b[0m\n\u001b[1;32m      3\u001b[0m           \u001b[0mepochs\u001b[0m\u001b[0;34m=\u001b[0m\u001b[0mepochs\u001b[0m\u001b[0;34m,\u001b[0m\u001b[0;34m\u001b[0m\u001b[0m\n\u001b[1;32m      4\u001b[0m           \u001b[0mcallbacks\u001b[0m\u001b[0;34m=\u001b[0m\u001b[0;34m[\u001b[0m\u001b[0mplot_losses\u001b[0m\u001b[0;34m]\u001b[0m\u001b[0;34m,\u001b[0m\u001b[0;34m\u001b[0m\u001b[0m\n\u001b[0;32m----> 5\u001b[0;31m           validation_data=(dev_data, dev_labels))\n\u001b[0m",
      "\u001b[0;32m/opt/conda/lib/python3.6/site-packages/keras/engine/training.py\u001b[0m in \u001b[0;36mfit\u001b[0;34m(self, x, y, batch_size, epochs, verbose, callbacks, validation_split, validation_data, shuffle, class_weight, sample_weight, initial_epoch, steps_per_epoch, validation_steps, **kwargs)\u001b[0m\n\u001b[1;32m   1703\u001b[0m                               \u001b[0minitial_epoch\u001b[0m\u001b[0;34m=\u001b[0m\u001b[0minitial_epoch\u001b[0m\u001b[0;34m,\u001b[0m\u001b[0;34m\u001b[0m\u001b[0m\n\u001b[1;32m   1704\u001b[0m                               \u001b[0msteps_per_epoch\u001b[0m\u001b[0;34m=\u001b[0m\u001b[0msteps_per_epoch\u001b[0m\u001b[0;34m,\u001b[0m\u001b[0;34m\u001b[0m\u001b[0m\n\u001b[0;32m-> 1705\u001b[0;31m                               validation_steps=validation_steps)\n\u001b[0m\u001b[1;32m   1706\u001b[0m \u001b[0;34m\u001b[0m\u001b[0m\n\u001b[1;32m   1707\u001b[0m     def evaluate(self, x=None, y=None,\n",
      "\u001b[0;32m/opt/conda/lib/python3.6/site-packages/keras/engine/training.py\u001b[0m in \u001b[0;36m_fit_loop\u001b[0;34m(self, f, ins, out_labels, batch_size, epochs, verbose, callbacks, val_f, val_ins, shuffle, callback_metrics, initial_epoch, steps_per_epoch, validation_steps)\u001b[0m\n\u001b[1;32m   1234\u001b[0m                         \u001b[0mins_batch\u001b[0m\u001b[0;34m[\u001b[0m\u001b[0mi\u001b[0m\u001b[0;34m]\u001b[0m \u001b[0;34m=\u001b[0m \u001b[0mins_batch\u001b[0m\u001b[0;34m[\u001b[0m\u001b[0mi\u001b[0m\u001b[0;34m]\u001b[0m\u001b[0;34m.\u001b[0m\u001b[0mtoarray\u001b[0m\u001b[0;34m(\u001b[0m\u001b[0;34m)\u001b[0m\u001b[0;34m\u001b[0m\u001b[0m\n\u001b[1;32m   1235\u001b[0m \u001b[0;34m\u001b[0m\u001b[0m\n\u001b[0;32m-> 1236\u001b[0;31m                     \u001b[0mouts\u001b[0m \u001b[0;34m=\u001b[0m \u001b[0mf\u001b[0m\u001b[0;34m(\u001b[0m\u001b[0mins_batch\u001b[0m\u001b[0;34m)\u001b[0m\u001b[0;34m\u001b[0m\u001b[0m\n\u001b[0m\u001b[1;32m   1237\u001b[0m                     \u001b[0;32mif\u001b[0m \u001b[0;32mnot\u001b[0m \u001b[0misinstance\u001b[0m\u001b[0;34m(\u001b[0m\u001b[0mouts\u001b[0m\u001b[0;34m,\u001b[0m \u001b[0mlist\u001b[0m\u001b[0;34m)\u001b[0m\u001b[0;34m:\u001b[0m\u001b[0;34m\u001b[0m\u001b[0m\n\u001b[1;32m   1238\u001b[0m                         \u001b[0mouts\u001b[0m \u001b[0;34m=\u001b[0m \u001b[0;34m[\u001b[0m\u001b[0mouts\u001b[0m\u001b[0;34m]\u001b[0m\u001b[0;34m\u001b[0m\u001b[0m\n",
      "\u001b[0;32m/opt/conda/lib/python3.6/site-packages/keras/backend/tensorflow_backend.py\u001b[0m in \u001b[0;36m__call__\u001b[0;34m(self, inputs)\u001b[0m\n\u001b[1;32m   2480\u001b[0m         \u001b[0msession\u001b[0m \u001b[0;34m=\u001b[0m \u001b[0mget_session\u001b[0m\u001b[0;34m(\u001b[0m\u001b[0;34m)\u001b[0m\u001b[0;34m\u001b[0m\u001b[0m\n\u001b[1;32m   2481\u001b[0m         updated = session.run(fetches=fetches, feed_dict=feed_dict,\n\u001b[0;32m-> 2482\u001b[0;31m                               **self.session_kwargs)\n\u001b[0m\u001b[1;32m   2483\u001b[0m         \u001b[0;32mreturn\u001b[0m \u001b[0mupdated\u001b[0m\u001b[0;34m[\u001b[0m\u001b[0;34m:\u001b[0m\u001b[0mlen\u001b[0m\u001b[0;34m(\u001b[0m\u001b[0mself\u001b[0m\u001b[0;34m.\u001b[0m\u001b[0moutputs\u001b[0m\u001b[0;34m)\u001b[0m\u001b[0;34m]\u001b[0m\u001b[0;34m\u001b[0m\u001b[0m\n\u001b[1;32m   2484\u001b[0m \u001b[0;34m\u001b[0m\u001b[0m\n",
      "\u001b[0;32m/opt/conda/lib/python3.6/site-packages/tensorflow/python/client/session.py\u001b[0m in \u001b[0;36mrun\u001b[0;34m(self, fetches, feed_dict, options, run_metadata)\u001b[0m\n\u001b[1;32m    893\u001b[0m     \u001b[0;32mtry\u001b[0m\u001b[0;34m:\u001b[0m\u001b[0;34m\u001b[0m\u001b[0m\n\u001b[1;32m    894\u001b[0m       result = self._run(None, fetches, feed_dict, options_ptr,\n\u001b[0;32m--> 895\u001b[0;31m                          run_metadata_ptr)\n\u001b[0m\u001b[1;32m    896\u001b[0m       \u001b[0;32mif\u001b[0m \u001b[0mrun_metadata\u001b[0m\u001b[0;34m:\u001b[0m\u001b[0;34m\u001b[0m\u001b[0m\n\u001b[1;32m    897\u001b[0m         \u001b[0mproto_data\u001b[0m \u001b[0;34m=\u001b[0m \u001b[0mtf_session\u001b[0m\u001b[0;34m.\u001b[0m\u001b[0mTF_GetBuffer\u001b[0m\u001b[0;34m(\u001b[0m\u001b[0mrun_metadata_ptr\u001b[0m\u001b[0;34m)\u001b[0m\u001b[0;34m\u001b[0m\u001b[0m\n",
      "\u001b[0;32m/opt/conda/lib/python3.6/site-packages/tensorflow/python/client/session.py\u001b[0m in \u001b[0;36m_run\u001b[0;34m(self, handle, fetches, feed_dict, options, run_metadata)\u001b[0m\n\u001b[1;32m   1126\u001b[0m     \u001b[0;32mif\u001b[0m \u001b[0mfinal_fetches\u001b[0m \u001b[0;32mor\u001b[0m \u001b[0mfinal_targets\u001b[0m \u001b[0;32mor\u001b[0m \u001b[0;34m(\u001b[0m\u001b[0mhandle\u001b[0m \u001b[0;32mand\u001b[0m \u001b[0mfeed_dict_tensor\u001b[0m\u001b[0;34m)\u001b[0m\u001b[0;34m:\u001b[0m\u001b[0;34m\u001b[0m\u001b[0m\n\u001b[1;32m   1127\u001b[0m       results = self._do_run(handle, final_targets, final_fetches,\n\u001b[0;32m-> 1128\u001b[0;31m                              feed_dict_tensor, options, run_metadata)\n\u001b[0m\u001b[1;32m   1129\u001b[0m     \u001b[0;32melse\u001b[0m\u001b[0;34m:\u001b[0m\u001b[0;34m\u001b[0m\u001b[0m\n\u001b[1;32m   1130\u001b[0m       \u001b[0mresults\u001b[0m \u001b[0;34m=\u001b[0m \u001b[0;34m[\u001b[0m\u001b[0;34m]\u001b[0m\u001b[0;34m\u001b[0m\u001b[0m\n",
      "\u001b[0;32m/opt/conda/lib/python3.6/site-packages/tensorflow/python/client/session.py\u001b[0m in \u001b[0;36m_do_run\u001b[0;34m(self, handle, target_list, fetch_list, feed_dict, options, run_metadata)\u001b[0m\n\u001b[1;32m   1342\u001b[0m     \u001b[0;32mif\u001b[0m \u001b[0mhandle\u001b[0m \u001b[0;32mis\u001b[0m \u001b[0;32mNone\u001b[0m\u001b[0;34m:\u001b[0m\u001b[0;34m\u001b[0m\u001b[0m\n\u001b[1;32m   1343\u001b[0m       return self._do_call(_run_fn, self._session, feeds, fetches, targets,\n\u001b[0;32m-> 1344\u001b[0;31m                            options, run_metadata)\n\u001b[0m\u001b[1;32m   1345\u001b[0m     \u001b[0;32melse\u001b[0m\u001b[0;34m:\u001b[0m\u001b[0;34m\u001b[0m\u001b[0m\n\u001b[1;32m   1346\u001b[0m       \u001b[0;32mreturn\u001b[0m \u001b[0mself\u001b[0m\u001b[0;34m.\u001b[0m\u001b[0m_do_call\u001b[0m\u001b[0;34m(\u001b[0m\u001b[0m_prun_fn\u001b[0m\u001b[0;34m,\u001b[0m \u001b[0mself\u001b[0m\u001b[0;34m.\u001b[0m\u001b[0m_session\u001b[0m\u001b[0;34m,\u001b[0m \u001b[0mhandle\u001b[0m\u001b[0;34m,\u001b[0m \u001b[0mfeeds\u001b[0m\u001b[0;34m,\u001b[0m \u001b[0mfetches\u001b[0m\u001b[0;34m)\u001b[0m\u001b[0;34m\u001b[0m\u001b[0m\n",
      "\u001b[0;32m/opt/conda/lib/python3.6/site-packages/tensorflow/python/client/session.py\u001b[0m in \u001b[0;36m_do_call\u001b[0;34m(self, fn, *args)\u001b[0m\n\u001b[1;32m   1348\u001b[0m   \u001b[0;32mdef\u001b[0m \u001b[0m_do_call\u001b[0m\u001b[0;34m(\u001b[0m\u001b[0mself\u001b[0m\u001b[0;34m,\u001b[0m \u001b[0mfn\u001b[0m\u001b[0;34m,\u001b[0m \u001b[0;34m*\u001b[0m\u001b[0margs\u001b[0m\u001b[0;34m)\u001b[0m\u001b[0;34m:\u001b[0m\u001b[0;34m\u001b[0m\u001b[0m\n\u001b[1;32m   1349\u001b[0m     \u001b[0;32mtry\u001b[0m\u001b[0;34m:\u001b[0m\u001b[0;34m\u001b[0m\u001b[0m\n\u001b[0;32m-> 1350\u001b[0;31m       \u001b[0;32mreturn\u001b[0m \u001b[0mfn\u001b[0m\u001b[0;34m(\u001b[0m\u001b[0;34m*\u001b[0m\u001b[0margs\u001b[0m\u001b[0;34m)\u001b[0m\u001b[0;34m\u001b[0m\u001b[0m\n\u001b[0m\u001b[1;32m   1351\u001b[0m     \u001b[0;32mexcept\u001b[0m \u001b[0merrors\u001b[0m\u001b[0;34m.\u001b[0m\u001b[0mOpError\u001b[0m \u001b[0;32mas\u001b[0m \u001b[0me\u001b[0m\u001b[0;34m:\u001b[0m\u001b[0;34m\u001b[0m\u001b[0m\n\u001b[1;32m   1352\u001b[0m       \u001b[0mmessage\u001b[0m \u001b[0;34m=\u001b[0m \u001b[0mcompat\u001b[0m\u001b[0;34m.\u001b[0m\u001b[0mas_text\u001b[0m\u001b[0;34m(\u001b[0m\u001b[0me\u001b[0m\u001b[0;34m.\u001b[0m\u001b[0mmessage\u001b[0m\u001b[0;34m)\u001b[0m\u001b[0;34m\u001b[0m\u001b[0m\n",
      "\u001b[0;32m/opt/conda/lib/python3.6/site-packages/tensorflow/python/client/session.py\u001b[0m in \u001b[0;36m_run_fn\u001b[0;34m(session, feed_dict, fetch_list, target_list, options, run_metadata)\u001b[0m\n\u001b[1;32m   1327\u001b[0m           return tf_session.TF_Run(session, options,\n\u001b[1;32m   1328\u001b[0m                                    \u001b[0mfeed_dict\u001b[0m\u001b[0;34m,\u001b[0m \u001b[0mfetch_list\u001b[0m\u001b[0;34m,\u001b[0m \u001b[0mtarget_list\u001b[0m\u001b[0;34m,\u001b[0m\u001b[0;34m\u001b[0m\u001b[0m\n\u001b[0;32m-> 1329\u001b[0;31m                                    status, run_metadata)\n\u001b[0m\u001b[1;32m   1330\u001b[0m \u001b[0;34m\u001b[0m\u001b[0m\n\u001b[1;32m   1331\u001b[0m     \u001b[0;32mdef\u001b[0m \u001b[0m_prun_fn\u001b[0m\u001b[0;34m(\u001b[0m\u001b[0msession\u001b[0m\u001b[0;34m,\u001b[0m \u001b[0mhandle\u001b[0m\u001b[0;34m,\u001b[0m \u001b[0mfeed_dict\u001b[0m\u001b[0;34m,\u001b[0m \u001b[0mfetch_list\u001b[0m\u001b[0;34m)\u001b[0m\u001b[0;34m:\u001b[0m\u001b[0;34m\u001b[0m\u001b[0m\n",
      "\u001b[0;31mKeyboardInterrupt\u001b[0m: "
     ]
    }
   ],
   "source": [
    "top_model.fit(train_data, train_labels,\n",
    "          batch_size=batch_size,\n",
    "          epochs=epochs,\n",
    "          callbacks=[plot_losses], \n",
    "          validation_data=(dev_data, dev_labels))"
   ]
  }
 ],
 "metadata": {
  "kernelspec": {
   "display_name": "Python 3",
   "language": "python",
   "name": "python3"
  },
  "language_info": {
   "codemirror_mode": {
    "name": "ipython",
    "version": 3
   },
   "file_extension": ".py",
   "mimetype": "text/x-python",
   "name": "python",
   "nbconvert_exporter": "python",
   "pygments_lexer": "ipython3",
   "version": "3.6.3"
  }
 },
 "nbformat": 4,
 "nbformat_minor": 2
}
