{
 "cells": [
  {
   "cell_type": "code",
   "execution_count": 1,
   "metadata": {},
   "outputs": [],
   "source": [
    "import imageio\n",
    "import pandas as pd\n",
    "import os\n",
    "from sklearn.model_selection import train_test_split"
   ]
  },
  {
   "cell_type": "code",
   "execution_count": 2,
   "metadata": {},
   "outputs": [],
   "source": [
    "labels = pd.read_csv('./data/labels.csv')"
   ]
  },
  {
   "cell_type": "markdown",
   "metadata": {},
   "source": [
    "#### Create directories"
   ]
  },
  {
   "cell_type": "code",
   "execution_count": 3,
   "metadata": {},
   "outputs": [],
   "source": [
    "breeds = labels['breed'].value_counts().index"
   ]
  },
  {
   "cell_type": "code",
   "execution_count": 4,
   "metadata": {},
   "outputs": [],
   "source": [
    "for breed in breeds:\n",
    "    os.makedirs('./data/train_dataset/' + breed)\n",
    "    os.makedirs('./data/dev_dataset/' + breed)"
   ]
  },
  {
   "cell_type": "markdown",
   "metadata": {},
   "source": [
    "#### Sort images"
   ]
  },
  {
   "cell_type": "code",
   "execution_count": 5,
   "metadata": {},
   "outputs": [],
   "source": [
    "def read_and_save(id, breed, dir):\n",
    "    image = imageio.imread('./data/train/' + id + '.jpg')\n",
    "    imageio.imwrite('./data/' + dir + '/' + breed + '/' + id + '.jpg', image[:, :, :])"
   ]
  },
  {
   "cell_type": "code",
   "execution_count": 6,
   "metadata": {},
   "outputs": [
    {
     "name": "stdout",
     "output_type": "stream",
     "text": [
      "Breed 0:scottish_deerhound processed\n",
      "Breed 1:maltese_dog processed\n",
      "Breed 2:afghan_hound processed\n",
      "Breed 3:entlebucher processed\n",
      "Breed 4:bernese_mountain_dog processed\n",
      "Breed 5:shih-tzu processed\n",
      "Breed 6:pomeranian processed\n",
      "Breed 7:great_pyrenees processed\n",
      "Breed 8:basenji processed\n",
      "Breed 9:samoyed processed\n",
      "Breed 10:tibetan_terrier processed\n",
      "Breed 11:airedale processed\n",
      "Breed 12:cairn processed\n",
      "Breed 13:leonberg processed\n",
      "Breed 14:beagle processed\n",
      "Breed 15:japanese_spaniel processed\n",
      "Breed 16:miniature_pinscher processed\n",
      "Breed 17:blenheim_spaniel processed\n",
      "Breed 18:australian_terrier processed\n",
      "Breed 19:irish_wolfhound processed\n",
      "Breed 20:saluki processed\n",
      "Breed 21:lakeland_terrier processed\n",
      "Breed 22:papillon processed\n",
      "Breed 23:whippet processed\n",
      "Breed 24:siberian_husky processed\n",
      "Breed 25:norwegian_elkhound processed\n",
      "Breed 26:pug processed\n",
      "Breed 27:chow processed\n",
      "Breed 28:italian_greyhound processed\n",
      "Breed 29:pembroke processed\n",
      "Breed 30:border_terrier processed\n",
      "Breed 31:ibizan_hound processed\n",
      "Breed 32:newfoundland processed\n",
      "Breed 33:lhasa processed\n",
      "Breed 34:silky_terrier processed\n",
      "Breed 35:dandie_dinmont processed\n",
      "Breed 36:bedlington_terrier processed\n",
      "Breed 37:irish_setter processed\n",
      "Breed 38:sealyham_terrier processed\n",
      "Breed 39:rhodesian_ridgeback processed\n",
      "Breed 40:boston_bull processed\n",
      "Breed 41:collie processed\n",
      "Breed 42:old_english_sheepdog processed\n",
      "Breed 43:english_foxhound processed\n",
      "Breed 44:bouvier_des_flandres processed\n",
      "Breed 45:kelpie processed\n",
      "Breed 46:schipperke processed\n",
      "Breed 47:african_hunting_dog processed\n",
      "Breed 48:bluetick processed\n",
      "Breed 49:bloodhound processed\n",
      "Breed 50:weimaraner processed\n",
      "Breed 51:saint_bernard processed\n",
      "Breed 52:labrador_retriever processed\n",
      "Breed 53:english_setter processed\n",
      "Breed 54:chesapeake_bay_retriever processed\n",
      "Breed 55:norfolk_terrier processed\n",
      "Breed 56:kerry_blue_terrier processed\n",
      "Breed 57:groenendael processed\n",
      "Breed 58:yorkshire_terrier processed\n",
      "Breed 59:greater_swiss_mountain_dog processed\n",
      "Breed 60:wire-haired_fox_terrier processed\n",
      "Breed 61:basset processed\n",
      "Breed 62:irish_terrier processed\n",
      "Breed 63:scotch_terrier processed\n",
      "Breed 64:gordon_setter processed\n",
      "Breed 65:malamute processed\n",
      "Breed 66:keeshond processed\n",
      "Breed 67:west_highland_white_terrier processed\n",
      "Breed 68:mexican_hairless processed\n",
      "Breed 69:clumber processed\n",
      "Breed 70:dingo processed\n",
      "Breed 71:affenpinscher processed\n",
      "Breed 72:toy_poodle processed\n",
      "Breed 73:toy_terrier processed\n",
      "Breed 74:staffordshire_bullterrier processed\n",
      "Breed 75:welsh_springer_spaniel processed\n",
      "Breed 76:standard_poodle processed\n",
      "Breed 77:miniature_poodle processed\n",
      "Breed 78:miniature_schnauzer processed\n",
      "Breed 79:sussex_spaniel processed\n",
      "Breed 80:irish_water_spaniel processed\n",
      "Breed 81:norwich_terrier processed\n",
      "Breed 82:appenzeller processed\n",
      "Breed 83:black-and-tan_coonhound processed\n",
      "Breed 84:cardigan processed\n",
      "Breed 85:dhole processed\n",
      "Breed 86:shetland_sheepdog processed\n",
      "Breed 87:rottweiler processed\n",
      "Breed 88:boxer processed\n",
      "Breed 89:great_dane processed\n",
      "Breed 90:english_springer processed\n",
      "Breed 91:bull_mastiff processed\n",
      "Breed 92:german_short-haired_pointer processed\n",
      "Breed 93:pekinese processed\n",
      "Breed 94:borzoi processed\n",
      "Breed 95:doberman processed\n",
      "Breed 96:cocker_spaniel processed\n",
      "Breed 97:american_staffordshire_terrier processed\n",
      "Breed 98:malinois processed\n",
      "Breed 99:brittany_spaniel processed\n",
      "Breed 100:flat-coated_retriever processed\n",
      "Breed 101:standard_schnauzer processed\n",
      "Breed 102:border_collie processed\n",
      "Breed 103:curly-coated_retriever processed\n",
      "Breed 104:redbone processed\n",
      "Breed 105:kuvasz processed\n",
      "Breed 106:soft-coated_wheaten_terrier processed\n",
      "Breed 107:chihuahua processed\n",
      "Breed 108:vizsla processed\n",
      "Breed 109:french_bulldog processed\n",
      "Breed 110:tibetan_mastiff processed\n",
      "Breed 111:otterhound processed\n",
      "Breed 112:german_shepherd processed\n",
      "Breed 113:giant_schnauzer processed\n",
      "Breed 114:walker_hound processed\n",
      "Breed 115:golden_retriever processed\n",
      "Breed 116:komondor processed\n",
      "Breed 117:brabancon_griffon processed\n",
      "Breed 118:briard processed\n",
      "Breed 119:eskimo_dog processed\n"
     ]
    }
   ],
   "source": [
    "for i, breed in enumerate(breeds):\n",
    "    train_ids, dev_ids = train_test_split(labels[labels['breed'] == breed]['id'], test_size=0.1)\n",
    "    for id in train_ids:\n",
    "        read_and_save(id, breed, 'train_dataset')\n",
    "    for id in dev_ids:\n",
    "        read_and_save(id, breed, 'dev_dataset')\n",
    "    print('Breed ' + str(i) + ':' + breed + ' processed')"
   ]
  }
 ],
 "metadata": {
  "kernelspec": {
   "display_name": "Python 3",
   "language": "python",
   "name": "python3"
  },
  "language_info": {
   "codemirror_mode": {
    "name": "ipython",
    "version": 3
   },
   "file_extension": ".py",
   "mimetype": "text/x-python",
   "name": "python",
   "nbconvert_exporter": "python",
   "pygments_lexer": "ipython3",
   "version": "3.6.3"
  }
 },
 "nbformat": 4,
 "nbformat_minor": 2
}
