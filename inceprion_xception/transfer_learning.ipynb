{
 "cells": [
  {
   "cell_type": "markdown",
   "metadata": {},
   "source": [
    "# 载入数据集"
   ]
  },
  {
   "cell_type": "code",
   "execution_count": 1,
   "metadata": {},
   "outputs": [
    {
     "name": "stderr",
     "output_type": "stream",
     "text": [
      "Using TensorFlow backend.\n"
     ]
    }
   ],
   "source": [
    "import cv2\n",
    "import numpy as np\n",
    "from tqdm import tqdm\n",
    "import pandas as pd\n",
    "from IPython.display import clear_output\n",
    "import keras"
   ]
  },
  {
   "cell_type": "code",
   "execution_count": 2,
   "metadata": {},
   "outputs": [
    {
     "data": {
      "text/plain": [
       "'2.2.4'"
      ]
     },
     "execution_count": 2,
     "metadata": {},
     "output_type": "execute_result"
    }
   ],
   "source": [
    "keras.__version__"
   ]
  },
  {
   "cell_type": "code",
   "execution_count": 3,
   "metadata": {},
   "outputs": [
    {
     "data": {
      "text/html": [
       "<div>\n",
       "<style scoped>\n",
       "    .dataframe tbody tr th:only-of-type {\n",
       "        vertical-align: middle;\n",
       "    }\n",
       "\n",
       "    .dataframe tbody tr th {\n",
       "        vertical-align: top;\n",
       "    }\n",
       "\n",
       "    .dataframe thead th {\n",
       "        text-align: right;\n",
       "    }\n",
       "</style>\n",
       "<table border=\"1\" class=\"dataframe\">\n",
       "  <thead>\n",
       "    <tr style=\"text-align: right;\">\n",
       "      <th></th>\n",
       "      <th>id</th>\n",
       "      <th>breed</th>\n",
       "    </tr>\n",
       "  </thead>\n",
       "  <tbody>\n",
       "    <tr>\n",
       "      <th>0</th>\n",
       "      <td>000bec180eb18c7604dcecc8fe0dba07</td>\n",
       "      <td>boston_bull</td>\n",
       "    </tr>\n",
       "    <tr>\n",
       "      <th>1</th>\n",
       "      <td>001513dfcb2ffafc82cccf4d8bbaba97</td>\n",
       "      <td>dingo</td>\n",
       "    </tr>\n",
       "    <tr>\n",
       "      <th>2</th>\n",
       "      <td>001cdf01b096e06d78e9e5112d419397</td>\n",
       "      <td>pekinese</td>\n",
       "    </tr>\n",
       "    <tr>\n",
       "      <th>3</th>\n",
       "      <td>00214f311d5d2247d5dfe4fe24b2303d</td>\n",
       "      <td>bluetick</td>\n",
       "    </tr>\n",
       "    <tr>\n",
       "      <th>4</th>\n",
       "      <td>0021f9ceb3235effd7fcde7f7538ed62</td>\n",
       "      <td>golden_retriever</td>\n",
       "    </tr>\n",
       "  </tbody>\n",
       "</table>\n",
       "</div>"
      ],
      "text/plain": [
       "                                 id             breed\n",
       "0  000bec180eb18c7604dcecc8fe0dba07       boston_bull\n",
       "1  001513dfcb2ffafc82cccf4d8bbaba97             dingo\n",
       "2  001cdf01b096e06d78e9e5112d419397          pekinese\n",
       "3  00214f311d5d2247d5dfe4fe24b2303d          bluetick\n",
       "4  0021f9ceb3235effd7fcde7f7538ed62  golden_retriever"
      ]
     },
     "execution_count": 3,
     "metadata": {},
     "output_type": "execute_result"
    }
   ],
   "source": [
    "df = pd.read_csv('../data/labels.csv')\n",
    "df.head()"
   ]
  },
  {
   "cell_type": "code",
   "execution_count": 4,
   "metadata": {},
   "outputs": [],
   "source": [
    "n = len(df)\n",
    "breed = set(df['breed'])\n",
    "n_class = len(breed)\n",
    "class_to_num = dict(zip(breed, range(n_class)))\n",
    "num_to_class = dict(zip(range(n_class), breed))"
   ]
  },
  {
   "cell_type": "code",
   "execution_count": 5,
   "metadata": {},
   "outputs": [
    {
     "name": "stderr",
     "output_type": "stream",
     "text": [
      "100%|██████████| 5111/5111 [00:00<00:00, 38406.29it/s]\n"
     ]
    }
   ],
   "source": [
    "width = 299\n",
    "y = np.zeros((n, n_class), dtype=np.uint8)\n",
    "for i in tqdm(range(int(n / 2))):\n",
    "    y[i][class_to_num[df['breed'][i]]] = 1"
   ]
  },
  {
   "cell_type": "markdown",
   "metadata": {},
   "source": [
    "# 导出特征"
   ]
  },
  {
   "cell_type": "code",
   "execution_count": 6,
   "metadata": {},
   "outputs": [],
   "source": [
    "from keras.layers import *\n",
    "from keras.models import *\n",
    "from keras.applications import *\n",
    "from keras.optimizers import *\n",
    "from keras.regularizers import *\n",
    "from keras.applications.inception_v3 import preprocess_input"
   ]
  },
  {
   "cell_type": "code",
   "execution_count": 7,
   "metadata": {},
   "outputs": [],
   "source": [
    "def get_features(MODEL):\n",
    "    cnn_model = MODEL(include_top=False, input_shape=(width, width, 3), weights='imagenet')\n",
    "    \n",
    "    inputs = Input((width, width, 3))\n",
    "    x = inputs\n",
    "    x = Lambda(preprocess_input, name='preprocessing')(x)\n",
    "    x = cnn_model(x)\n",
    "    x = GlobalAveragePooling2D()(x)\n",
    "    cnn_model = Model(inputs, x)\n",
    "    \n",
    "    batch_size = 32\n",
    "    num_batches = n // batch_size\n",
    "    last_batch_size = n - batch_size * num_batches\n",
    "    num_batches = num_batches + 1 if last_batch_size > 0 else num_batches\n",
    "    \n",
    "    #print('Num batches:', num_batches, 'Last_batch size:', last_batch_size)\n",
    "    \n",
    "    k = 0\n",
    "    features = np.zeros((n, 2048))\n",
    "    for i in tqdm(range(num_batches)):\n",
    "        size = batch_size if i != num_batches - 1 else last_batch_size\n",
    "        X = np.zeros((batch_size, width, width, 3)) if i != num_batches - 1 else np.zeros((last_batch_size, width, width, 3))        \n",
    "        for j in range(size):\n",
    "            X[j] = cv2.resize(cv2.imread('../data/train/%s.jpg' % df['id'][k]), (width, width))\n",
    "            k = k + 1\n",
    "        predictons = cnn_model.predict(X, batch_size=batch_size, verbose=0)\n",
    "\n",
    "        features[i * batch_size: i * batch_size + size, :] = predictons\n",
    "\n",
    "        clear_output(wait=True)\n",
    "        \n",
    "    return features"
   ]
  },
  {
   "cell_type": "code",
   "execution_count": null,
   "metadata": {
    "scrolled": false
   },
   "outputs": [],
   "source": [
    "inception_features = get_features(InceptionV3)\n",
    "np.save('./inception_features.npy', inception_features)"
   ]
  },
  {
   "cell_type": "code",
   "execution_count": null,
   "metadata": {},
   "outputs": [],
   "source": [
    "xception_features = get_features(Xception)\n",
    "np.save('./xception_features.npy', xception_features)"
   ]
  },
  {
   "cell_type": "code",
   "execution_count": 8,
   "metadata": {},
   "outputs": [],
   "source": [
    "inception_features = np.load('./inception_features.npy')\n",
    "xception_features = np.load('./xception_features.npy')\n",
    "features = np.concatenate([inception_features, xception_features], axis=-1)"
   ]
  },
  {
   "cell_type": "markdown",
   "metadata": {},
   "source": [
    "# 训练模型"
   ]
  },
  {
   "cell_type": "code",
   "execution_count": 9,
   "metadata": {},
   "outputs": [
    {
     "name": "stdout",
     "output_type": "stream",
     "text": [
      "Train on 9199 samples, validate on 1023 samples\n",
      "Epoch 1/10\n",
      "9199/9199 [==============================] - 1s 159us/step - loss: 1.2060 - acc: 0.3078 - val_loss: 0.0000e+00 - val_acc: 0.0078\n",
      "Epoch 2/10\n",
      "9199/9199 [==============================] - 1s 115us/step - loss: 0.3384 - acc: 0.4712 - val_loss: 0.0000e+00 - val_acc: 0.0029\n",
      "Epoch 3/10\n",
      "9199/9199 [==============================] - 1s 111us/step - loss: 0.2403 - acc: 0.4944 - val_loss: 0.0000e+00 - val_acc: 0.0049\n",
      "Epoch 4/10\n",
      "9199/9199 [==============================] - 1s 112us/step - loss: 0.1863 - acc: 0.5094 - val_loss: 0.0000e+00 - val_acc: 0.0049\n",
      "Epoch 5/10\n",
      "9199/9199 [==============================] - 1s 112us/step - loss: 0.1473 - acc: 0.5241 - val_loss: 0.0000e+00 - val_acc: 0.0059\n",
      "Epoch 6/10\n",
      "9199/9199 [==============================] - 1s 124us/step - loss: 0.1251 - acc: 0.5281 - val_loss: 0.0000e+00 - val_acc: 0.0049\n",
      "Epoch 7/10\n",
      "9199/9199 [==============================] - 1s 115us/step - loss: 0.0997 - acc: 0.5382 - val_loss: 0.0000e+00 - val_acc: 0.0049\n",
      "Epoch 8/10\n",
      "9199/9199 [==============================] - 1s 113us/step - loss: 0.0888 - acc: 0.5397 - val_loss: 0.0000e+00 - val_acc: 0.0049\n",
      "Epoch 9/10\n",
      "9199/9199 [==============================] - 1s 112us/step - loss: 0.0762 - acc: 0.5438 - val_loss: 0.0000e+00 - val_acc: 0.0049\n",
      "Epoch 10/10\n",
      "9199/9199 [==============================] - 1s 113us/step - loss: 0.0656 - acc: 0.5467 - val_loss: 0.0000e+00 - val_acc: 0.0049\n"
     ]
    }
   ],
   "source": [
    "inputs = Input(features.shape[1:])\n",
    "x = inputs\n",
    "x = Dropout(0.5)(x)\n",
    "x = Dense(n_class, activation='softmax')(x)\n",
    "model = Model(inputs, x)\n",
    "\n",
    "model.compile(\n",
    "    optimizer=tf.train.AdamOptimizer(),\n",
    "    loss='categorical_crossentropy',\n",
    "    metrics=['accuracy'],\n",
    ")\n",
    "\n",
    "h = model.fit(\n",
    "    features, \n",
    "    y, \n",
    "    batch_size=128, \n",
    "    epochs=10, \n",
    "    validation_split=0.1,\n",
    "    shuffle=True,\n",
    ")"
   ]
  },
  {
   "cell_type": "markdown",
   "metadata": {},
   "source": [
    "# 可视化模型"
   ]
  },
  {
   "cell_type": "code",
   "execution_count": null,
   "metadata": {},
   "outputs": [],
   "source": [
    "from IPython.display import SVG\n",
    "from keras.utils.vis_utils import model_to_dot\n",
    "\n",
    "SVG(model_to_dot(model, show_shapes=True).create(prog='dot', format='svg'))"
   ]
  },
  {
   "cell_type": "markdown",
   "metadata": {},
   "source": [
    "# 可视化训练过程"
   ]
  },
  {
   "cell_type": "code",
   "execution_count": null,
   "metadata": {},
   "outputs": [],
   "source": [
    "import matplotlib.pyplot as plt\n",
    "\n",
    "%matplotlib inline\n",
    "%config InlineBackend.figure_format = 'retina'\n",
    "\n",
    "plt.figure(figsize=(10, 4))\n",
    "plt.subplot(1, 2, 1)\n",
    "plt.plot(h.history['loss'])\n",
    "plt.plot(h.history['val_loss'])\n",
    "plt.legend(['loss', 'val_loss'])\n",
    "plt.ylabel('loss')\n",
    "plt.xlabel('epoch')\n",
    "\n",
    "plt.subplot(1, 2, 2)\n",
    "plt.plot(h.history['acc'])\n",
    "plt.plot(h.history['val_acc'])\n",
    "plt.legend(['acc', 'val_acc'])\n",
    "plt.ylabel('acc')\n",
    "plt.xlabel('epoch')"
   ]
  },
  {
   "cell_type": "markdown",
   "metadata": {},
   "source": [
    "# 载入测试集"
   ]
  },
  {
   "cell_type": "code",
   "execution_count": null,
   "metadata": {},
   "outputs": [],
   "source": [
    "df2 = pd.read_csv('sample_submission.csv')"
   ]
  },
  {
   "cell_type": "code",
   "execution_count": null,
   "metadata": {},
   "outputs": [],
   "source": [
    "n_test = len(df2)\n",
    "X_test = np.zeros((n_test, width, width, 3), dtype=np.uint8)\n",
    "for i in tqdm(range(n_test)):\n",
    "    X_test[i] = cv2.resize(cv2.imread('test/%s.jpg' % df2['id'][i]), (width, width))"
   ]
  },
  {
   "cell_type": "markdown",
   "metadata": {},
   "source": [
    "# 导出测试集特征"
   ]
  },
  {
   "cell_type": "code",
   "execution_count": null,
   "metadata": {},
   "outputs": [],
   "source": [
    "inception_features = get_features(InceptionV3, X_test)\n",
    "xception_features = get_features(Xception, X_test)\n",
    "features_test = np.concatenate([inception_features, xception_features], axis=-1)"
   ]
  },
  {
   "cell_type": "markdown",
   "metadata": {},
   "source": [
    "# 预测测试集并输出结果"
   ]
  },
  {
   "cell_type": "code",
   "execution_count": null,
   "metadata": {},
   "outputs": [],
   "source": [
    "y_pred = model.predict(features_test, batch_size=128)"
   ]
  },
  {
   "cell_type": "code",
   "execution_count": null,
   "metadata": {},
   "outputs": [],
   "source": [
    "for b in breed:\n",
    "    df2[b] = y_pred[:,class_to_num[b]]"
   ]
  },
  {
   "cell_type": "code",
   "execution_count": null,
   "metadata": {},
   "outputs": [],
   "source": [
    "df2.to_csv('pred.csv', index=None)"
   ]
  },
  {
   "cell_type": "code",
   "execution_count": null,
   "metadata": {},
   "outputs": [],
   "source": []
  }
 ],
 "metadata": {
  "kernelspec": {
   "display_name": "Python 3",
   "language": "python",
   "name": "python3"
  },
  "language_info": {
   "codemirror_mode": {
    "name": "ipython",
    "version": 3
   },
   "file_extension": ".py",
   "mimetype": "text/x-python",
   "name": "python",
   "nbconvert_exporter": "python",
   "pygments_lexer": "ipython3",
   "version": "3.6.3"
  }
 },
 "nbformat": 4,
 "nbformat_minor": 2
}
